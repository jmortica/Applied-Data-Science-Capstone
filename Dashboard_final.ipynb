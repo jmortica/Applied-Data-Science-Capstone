{
 "cells": [
  {
   "cell_type": "code",
   "execution_count": 11,
   "id": "0f816348-acb9-4931-b7c8-6e98b233f3fe",
   "metadata": {
    "editable": true,
    "slideshow": {
     "slide_type": ""
    },
    "tags": []
   },
   "outputs": [],
   "source": [
    "# Import required libraries\n",
    "import pandas as pd\n",
    "import dash\n",
    "from dash import html\n",
    "from dash import dcc\n",
    "from dash.dependencies import Input, Output\n",
    "import plotly.express as px\n",
    "import numpy as np"
   ]
  },
  {
   "cell_type": "code",
   "execution_count": 12,
   "id": "13d2a718-4faa-4d05-9d85-5fa2f86a2858",
   "metadata": {},
   "outputs": [],
   "source": [
    "wget=\"https://cf-courses-data.s3.us.cloud-object-storage.appdomain.cloud/IBM-DS0321EN-SkillsNetwork/datasets/spacex_launch_dash.csv\""
   ]
  },
  {
   "cell_type": "code",
   "execution_count": 13,
   "id": "d135d9dc-fb70-498d-8e93-a7d319360b7f",
   "metadata": {},
   "outputs": [],
   "source": [
    "# Read the airline data into pandas dataframe\n",
    "spacex_df = pd.read_csv(wget)\n",
    "max_payload = spacex_df['Payload Mass (kg)'].max()\n",
    "min_payload = spacex_df['Payload Mass (kg)'].min()"
   ]
  },
  {
   "cell_type": "code",
   "execution_count": 19,
   "id": "8c8f45ea-93d6-4ef5-a753-ee628c432836",
   "metadata": {},
   "outputs": [
    {
     "data": {
      "text/plain": [
       "0      1\n",
       "1      2\n",
       "2      3\n",
       "3      4\n",
       "4      5\n",
       "5      7\n",
       "6      8\n",
       "7      9\n",
       "8     10\n",
       "9     11\n",
       "10    12\n",
       "11    13\n",
       "12    14\n",
       "13    15\n",
       "14    16\n",
       "15    17\n",
       "16    18\n",
       "17    19\n",
       "18    20\n",
       "19    22\n",
       "20    23\n",
       "21    24\n",
       "22    25\n",
       "23    26\n",
       "24    27\n",
       "25    28\n",
       "26     6\n",
       "27    21\n",
       "28    29\n",
       "29    37\n",
       "30    40\n",
       "31    42\n",
       "32    46\n",
       "33    49\n",
       "34    51\n",
       "35    55\n",
       "36    30\n",
       "37    31\n",
       "38    32\n",
       "39    33\n",
       "40    34\n",
       "41    35\n",
       "42    36\n",
       "43    38\n",
       "44    39\n",
       "45    41\n",
       "46    43\n",
       "47    44\n",
       "48    54\n",
       "49    45\n",
       "50    47\n",
       "51    48\n",
       "52    50\n",
       "53    52\n",
       "54    53\n",
       "55    56\n",
       "Name: Flight Number, dtype: int64"
      ]
     },
     "execution_count": 19,
     "metadata": {},
     "output_type": "execute_result"
    }
   ],
   "source": [
    "spacex_df['Flight Number']"
   ]
  },
  {
   "cell_type": "code",
   "execution_count": 14,
   "id": "fde04b08-3ccc-4501-8d4a-cef0aae2acec",
   "metadata": {},
   "outputs": [
    {
     "data": {
      "text/html": [
       "<div>\n",
       "<style scoped>\n",
       "    .dataframe tbody tr th:only-of-type {\n",
       "        vertical-align: middle;\n",
       "    }\n",
       "\n",
       "    .dataframe tbody tr th {\n",
       "        vertical-align: top;\n",
       "    }\n",
       "\n",
       "    .dataframe thead th {\n",
       "        text-align: right;\n",
       "    }\n",
       "</style>\n",
       "<table border=\"1\" class=\"dataframe\">\n",
       "  <thead>\n",
       "    <tr style=\"text-align: right;\">\n",
       "      <th></th>\n",
       "      <th>class</th>\n",
       "    </tr>\n",
       "    <tr>\n",
       "      <th>Launch Site</th>\n",
       "      <th></th>\n",
       "    </tr>\n",
       "  </thead>\n",
       "  <tbody>\n",
       "    <tr>\n",
       "      <th>CCAFS LC-40</th>\n",
       "      <td>26</td>\n",
       "    </tr>\n",
       "    <tr>\n",
       "      <th>CCAFS SLC-40</th>\n",
       "      <td>7</td>\n",
       "    </tr>\n",
       "    <tr>\n",
       "      <th>KSC LC-39A</th>\n",
       "      <td>13</td>\n",
       "    </tr>\n",
       "    <tr>\n",
       "      <th>VAFB SLC-4E</th>\n",
       "      <td>10</td>\n",
       "    </tr>\n",
       "  </tbody>\n",
       "</table>\n",
       "</div>"
      ],
      "text/plain": [
       "              class\n",
       "Launch Site        \n",
       "CCAFS LC-40      26\n",
       "CCAFS SLC-40      7\n",
       "KSC LC-39A       13\n",
       "VAFB SLC-4E      10"
      ]
     },
     "execution_count": 14,
     "metadata": {},
     "output_type": "execute_result"
    }
   ],
   "source": [
    "spacex_df.groupby(by='Launch Site')[['class']].count()"
   ]
  },
  {
   "cell_type": "code",
   "execution_count": 15,
   "id": "4c5eb453-f2a8-479e-9bfa-d362ceccb393",
   "metadata": {},
   "outputs": [],
   "source": [
    "launch_sites=spacex_df['Launch Site'].unique()\n",
    "launch_sites=np.append(launch_sites,'All sites')"
   ]
  },
  {
   "cell_type": "code",
   "execution_count": 16,
   "id": "80246150-17b2-4d18-8cab-7a827d7e560e",
   "metadata": {},
   "outputs": [],
   "source": [
    "success_site=spacex_df.groupby(by='Launch Site')[['class']].sum()"
   ]
  },
  {
   "cell_type": "code",
   "execution_count": 17,
   "id": "5e7769be-03da-457b-a7d2-6d3f7b0ecbb6",
   "metadata": {},
   "outputs": [
    {
     "data": {
      "text/html": [
       "\n",
       "        <iframe\n",
       "            width=\"100%\"\n",
       "            height=\"650\"\n",
       "            src=\"http://127.0.0.1:8050/\"\n",
       "            frameborder=\"0\"\n",
       "            allowfullscreen\n",
       "            \n",
       "        ></iframe>\n",
       "        "
      ],
      "text/plain": [
       "<IPython.lib.display.IFrame at 0x1fe34e48050>"
      ]
     },
     "metadata": {},
     "output_type": "display_data"
    },
    {
     "name": "stderr",
     "output_type": "stream",
     "text": [
      "C:\\Users\\Omaro\\AppData\\Local\\Temp\\ipykernel_17644\\858795416.py:57: SettingWithCopyWarning:\n",
      "\n",
      "\n",
      "A value is trying to be set on a copy of a slice from a DataFrame\n",
      "\n",
      "See the caveats in the documentation: https://pandas.pydata.org/pandas-docs/stable/user_guide/indexing.html#returning-a-view-versus-a-copy\n",
      "\n",
      "C:\\Users\\Omaro\\AppData\\Local\\Temp\\ipykernel_17644\\858795416.py:58: SettingWithCopyWarning:\n",
      "\n",
      "\n",
      "A value is trying to be set on a copy of a slice from a DataFrame\n",
      "\n",
      "See the caveats in the documentation: https://pandas.pydata.org/pandas-docs/stable/user_guide/indexing.html#returning-a-view-versus-a-copy\n",
      "\n",
      "C:\\Users\\Omaro\\AppData\\Local\\Temp\\ipykernel_17644\\858795416.py:57: SettingWithCopyWarning:\n",
      "\n",
      "\n",
      "A value is trying to be set on a copy of a slice from a DataFrame\n",
      "\n",
      "See the caveats in the documentation: https://pandas.pydata.org/pandas-docs/stable/user_guide/indexing.html#returning-a-view-versus-a-copy\n",
      "\n",
      "C:\\Users\\Omaro\\AppData\\Local\\Temp\\ipykernel_17644\\858795416.py:58: SettingWithCopyWarning:\n",
      "\n",
      "\n",
      "A value is trying to be set on a copy of a slice from a DataFrame\n",
      "\n",
      "See the caveats in the documentation: https://pandas.pydata.org/pandas-docs/stable/user_guide/indexing.html#returning-a-view-versus-a-copy\n",
      "\n",
      "C:\\Users\\Omaro\\AppData\\Local\\Temp\\ipykernel_17644\\858795416.py:57: SettingWithCopyWarning:\n",
      "\n",
      "\n",
      "A value is trying to be set on a copy of a slice from a DataFrame\n",
      "\n",
      "See the caveats in the documentation: https://pandas.pydata.org/pandas-docs/stable/user_guide/indexing.html#returning-a-view-versus-a-copy\n",
      "\n",
      "C:\\Users\\Omaro\\AppData\\Local\\Temp\\ipykernel_17644\\858795416.py:58: SettingWithCopyWarning:\n",
      "\n",
      "\n",
      "A value is trying to be set on a copy of a slice from a DataFrame\n",
      "\n",
      "See the caveats in the documentation: https://pandas.pydata.org/pandas-docs/stable/user_guide/indexing.html#returning-a-view-versus-a-copy\n",
      "\n"
     ]
    }
   ],
   "source": [
    "# Create a dash application\n",
    "app = dash.Dash(__name__)\n",
    "\n",
    "# Create an app layout\n",
    "app.layout = html.Div(children=[html.H1('SpaceX Launch Records Dashboard',\n",
    "                                        style={'textAlign': 'center', 'color': '#503D36',\n",
    "                                               'font-size': 40}),\n",
    "                                \n",
    "                                # TASK 1: Add a dropdown list to enable Launch Site selection\n",
    "                                # The default select value is for ALL sites\n",
    "                                # dcc.Dropdown(id='site-dropdown',...)\n",
    "                            html.Div([html.Label(\"Select a launch site:\"),\n",
    "                                dcc.Dropdown(\n",
    "                                    id='site-dropdown',\n",
    "                                    options=[{'label':sitio, 'value':sitio} for sitio in launch_sites],\n",
    "                                    value='All sites'\n",
    "                                    #, placeholder='Select a report type'\n",
    "                                )\n",
    "                                     ]),\n",
    "                                \n",
    "                                html.Br(),\n",
    "\n",
    "                                # TASK 2: Add a pie chart to show the total successful launches count for all sites\n",
    "                                # If a specific launch site was selected, show the Success vs. Failed counts for the site\n",
    "                                html.Div(dcc.Graph(id='success-pie-chart')),\n",
    "                                html.Br(),\n",
    "\n",
    "                                html.P(\"Payload range (Kg):\"), \n",
    "                                # TASK 3: Add a slider to select payload range\n",
    "                                html.Div(dcc.RangeSlider(min_payload, max_payload, value=[5000, 7000], id='payload-slider')),\n",
    "                                # TASK 4: Add a scatter chart to show the correlation between payload and launch success\n",
    "                                html.Div(dcc.Graph(id='success-payload-scatter-chart')),\n",
    "                                ])\n",
    "\n",
    "# TASK 2:\n",
    "# Add a callback function for `site-dropdown` as input, `success-pie-chart` as output\n",
    "@app.callback(\n",
    "    Output(component_id='success-pie-chart', component_property='figure'),\n",
    "    [Input(component_id='site-dropdown', component_property='value')])\n",
    "def pie_chart(chosen_site):\n",
    "    if chosen_site == 'All sites':\n",
    "        figura=px.pie(success_site, values='class', names=success_site.index,\n",
    "                                       title='Number of successful retrievals by launch site')\n",
    "        figura.update_traces(textinfo='value')\n",
    "        return figura\n",
    "    else:\n",
    "        specific_site=spacex_df[spacex_df['Launch Site']==chosen_site]\n",
    "        figura=px.pie(values=specific_site['class'].value_counts().sort_index().values, names=['Failure','Success'],\n",
    "                                       title='Percentage of successful retrievals in {}'.format(chosen_site))\n",
    "        return figura\n",
    "        \n",
    "@app.callback(\n",
    "    Output(component_id='success-payload-scatter-chart', component_property='figure'),\n",
    "    [Input(component_id='payload-slider', component_property='value')])\n",
    "def scatter_chart(chosen_range):\n",
    "    specific_range=spacex_df[(spacex_df['Payload Mass (kg)']>=chosen_range[0])  & (spacex_df['Payload Mass (kg)']<=chosen_range[1])]\n",
    "    specific_range['class'].replace(0,'Failure',inplace=True)\n",
    "    specific_range['class'].replace(1,'Success',inplace=True)\n",
    "    figura=px.scatter(specific_range, x='Payload Mass (kg)', y='class', title='Percentage of successful retrievals in')\n",
    "    return figura        \n",
    "# Run the app\n",
    "if __name__ == '__main__':\n",
    "    app.run_server()"
   ]
  },
  {
   "cell_type": "code",
   "execution_count": null,
   "id": "c91d156d-8740-4a6f-8c66-ced0a9fa981a",
   "metadata": {},
   "outputs": [],
   "source": []
  }
 ],
 "metadata": {
  "kernelspec": {
   "display_name": "Python 3 (ipykernel)",
   "language": "python",
   "name": "python3"
  },
  "language_info": {
   "codemirror_mode": {
    "name": "ipython",
    "version": 3
   },
   "file_extension": ".py",
   "mimetype": "text/x-python",
   "name": "python",
   "nbconvert_exporter": "python",
   "pygments_lexer": "ipython3",
   "version": "3.11.6"
  }
 },
 "nbformat": 4,
 "nbformat_minor": 5
}
